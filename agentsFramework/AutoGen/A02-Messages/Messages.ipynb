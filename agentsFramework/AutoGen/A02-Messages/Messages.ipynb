{
 "cells": [
  {
   "cell_type": "markdown",
   "id": "d280c1b6",
   "metadata": {},
   "source": [
    "<div style=\"text-align: center;\">\n",
    "  <img src=\"../../../assets/Cover.png\" alt=\"WTF-Agents cover\">\n",
    "</div>\n",
    "\n",
    "上一节：**[HelloWorld 构建你的第一个智能体](../A01-HelloWorld/HelloWorld.ipynb)**\n",
    "\n",
    "\n",
    "### 章节介绍\n",
    "\n",
    "本节内容我们学习一个特别重要的概念`Message`. `Message` 是 AutoGen 中的一个核心概念，它定义了智能体之间以及智能体内部信息传递的标准和格式，同时我们也可以通过继承 `BaseChatMessage` 和 `BaseAgentEvent`来自定义自身应用场景的消息格式和行为。在编写自定义代理时，自定义消息类型非常有用！"
   ]
  },
  {
   "cell_type": "markdown",
   "id": "43aae1b6",
   "metadata": {},
   "source": [
    "### 1. Message 模块介绍\n",
    "\n",
    "在AutoGen中 `Message` 模块是实现与其他智能体、协调器及应用程序之间通信和信息交换的媒介,从总体上看 `AgentChat` 中的消息可分为两大类：智能体间消息和智能体内部事件消息。\n",
    "\n",
    "<div style=\"text-align: center;\">\n",
    "  <img src=\"./assets/messages.png\" alt=\"autogen messages structure\", style=\"width: 60%;\">\n",
    "</div>"
   ]
  },
  {
   "cell_type": "markdown",
   "id": "f83fda1c",
   "metadata": {},
   "source": [
    "### 2. Agent-Agent Messages  智能体间消息\n",
    "\n",
    "AgentChat 支持多种智能体间通信的消息类型，这些类型均继承自基类 `BaseChatMessage` 。`BaseChatMessage` 是用于智能体间通信的抽象基类，定义了消息的基本结构和行为。它的子类用于处理不同类型的消息内容例如：\n",
    "\n",
    "+ `TextMessage`- 纯文本消息；\n",
    "+ `MultiModalMessage` - 多模态消息；\n",
    "+ `StopMessage` - 停止消息；\n",
    "+ `ToolCallSummaryMessage`  - 工具调用摘要消息；\n",
    "+ `HandoffMessage` - 任务传递消息；\n",
    "+ `StructuredMessage`  - 泛型结构化消息。\n",
    "\n",
    "\n"
   ]
  },
  {
   "cell_type": "markdown",
   "id": "097f22f3",
   "metadata": {},
   "source": [
    "\n",
    "2.1. 以下代码片段展示了如何创建`TextMessage`文本消息，它接受字符串内容和字符串来源，用于传输简单的文本消息。"
   ]
  },
  {
   "cell_type": "code",
   "execution_count": 1,
   "id": "eb2f87da",
   "metadata": {},
   "outputs": [
    {
     "name": "stdout",
     "output_type": "stream",
     "text": [
      "Content: Hello, world!\n",
      "Source: User\n"
     ]
    }
   ],
   "source": [
    "from autogen_agentchat.messages import TextMessage\n",
    "\n",
    "# 创建一个 TextMessage 实例\n",
    "text_message = TextMessage(content=\"Hello, world!\", source=\"User\")\n",
    "\n",
    "# 打印消息内容和来源\n",
    "print(f\"Content: {text_message.content}\")\n",
    "print(f\"Source: {text_message.source}\")"
   ]
  },
  {
   "cell_type": "markdown",
   "id": "d210e395",
   "metadata": {},
   "source": [
    "**解释**：\n",
    "- `content` 参数是一个字符串，表示消息的主要内容。\n",
    "- `source` 参数标识消息的发送者（例如 \"User\" 或某个智能体的名称）。\n",
    "- `TextMessage` 适用于简单的文本交互场景，例如用户向智能体发送指令或智能体之间的文本对话。\n"
   ]
  },
  {
   "cell_type": "markdown",
   "id": "df6154c3",
   "metadata": {},
   "source": [
    "2.2. `MultiModalMessage` 支持多模态内容，允许消息包含文本和图像（或其他多模态数据）的组合。内容以列表形式传递，列表元素可以是字符串或 `Image` 对象。"
   ]
  },
  {
   "cell_type": "code",
   "execution_count": 2,
   "id": "33f4cd43",
   "metadata": {},
   "outputs": [
    {
     "name": "stdout",
     "output_type": "stream",
     "text": [
      "Content: ['Can you describe the content of this image?', <autogen_core._image.Image object at 0x000001B342489030>]\n",
      "Source: User\n"
     ]
    }
   ],
   "source": [
    "from io import BytesIO\n",
    "import requests\n",
    "from autogen_agentchat.messages import MultiModalMessage\n",
    "from autogen_core import Image as AGImage\n",
    "from PIL import Image\n",
    "\n",
    "# 从 URL 获取图像\n",
    "pil_image = Image.open(BytesIO(requests.get(\"https://picsum.photos/300/200\").content))\n",
    "img = AGImage(pil_image)\n",
    "\n",
    "# 创建一个 MultiModalMessage 实例\n",
    "multi_modal_message = MultiModalMessage(\n",
    "    content=[\"Can you describe the content of this image?\", img],\n",
    "    source=\"User\"\n",
    ")\n",
    "\n",
    "# 打印消息内容和来源\n",
    "print(f\"Content: {multi_modal_message.content}\")\n",
    "print(f\"Source: {multi_modal_message.source}\")"
   ]
  },
  {
   "cell_type": "markdown",
   "id": "2c2918a5",
   "metadata": {},
   "source": [
    "**解释**：\n",
    "- `content` 是一个列表，可以包含字符串和 `AGImage` 对象（AutoGen 的图像类）。\n",
    "- `source` 标识消息的发送者。\n",
    "- 该消息类型适用于需要结合文本和视觉信息的场景，例如要求智能体分析图像内容。"
   ]
  },
  {
   "cell_type": "markdown",
   "id": "2f3a8615",
   "metadata": {},
   "source": [
    "2.3.  `StopMessage` 用于指示对话的终止，通常由智能体或用户发送以结束交互。"
   ]
  },
  {
   "cell_type": "code",
   "execution_count": 3,
   "id": "4d281407",
   "metadata": {},
   "outputs": [
    {
     "name": "stdout",
     "output_type": "stream",
     "text": [
      "Content: TERMINATE\n",
      "Source: User\n"
     ]
    }
   ],
   "source": [
    "from autogen_agentchat.messages import StopMessage\n",
    "\n",
    "# 创建一个 StopMessage 实例\n",
    "stop_message = StopMessage(content=\"TERMINATE\", source=\"User\")\n",
    "\n",
    "# 打印消息内容和来源\n",
    "print(f\"Content: {stop_message.content}\")\n",
    "print(f\"Source: {stop_message.source}\")"
   ]
  },
  {
   "cell_type": "markdown",
   "id": "3901e6ee",
   "metadata": {},
   "source": [
    "**解释**：\n",
    "- `StopMessage` 通常包含一个表示终止的字符串（例如 \"TERMINATE\"）。\n",
    "- 智能体接收到此类消息后会停止对话或任务。\n",
    "- 适用于需要明确结束多智能体交互的场景，例如用户完成任务或智能体检测到无进一步处理需求。"
   ]
  },
  {
   "cell_type": "markdown",
   "id": "3c34eb90",
   "metadata": {},
   "source": [
    "2.4. `ToolCallSummaryMessage` 用于总结工具调用的结果，例如智能体调用外部 API 或执行代码后的输出。"
   ]
  },
  {
   "cell_type": "code",
   "execution_count": 4,
   "id": "44f38053",
   "metadata": {},
   "outputs": [
    {
     "name": "stdout",
     "output_type": "stream",
     "text": [
      "Content: {\"tool\": \"calculate_sum\", \"result\": 42}\n",
      "Source: CalculatorAgent\n"
     ]
    }
   ],
   "source": [
    "import json\n",
    "from autogen_agentchat.messages import ToolCallSummaryMessage\n",
    "\n",
    "# 创建一个 ToolCallSummaryMessage 实例 - JSON 字符串版本\n",
    "tool_data = {\"tool\": \"calculate_sum\", \"result\": 42}\n",
    "tool_call_summary = ToolCallSummaryMessage(\n",
    "    # ToolCallSummaryMessage 的 content 字段在当前版本的 AutoGen 中期望接收字符串类型\n",
    "    content=json.dumps(tool_data),  # 将字典转换为 JSON 字符串\n",
    "    source=\"CalculatorAgent\"\n",
    ")\n",
    "\n",
    "# 打印消息内容和来源\n",
    "print(f\"Content: {tool_call_summary.content}\")\n",
    "print(f\"Source: {tool_call_summary.source}\")\n"
   ]
  },
  {
   "cell_type": "markdown",
   "id": "6310f690",
   "metadata": {},
   "source": [
    "**解释**：\n",
    "- `content` 通常是一个字符串，包含工具调用的相关信息（如工具名称和执行结果）。\n",
    "- `source` 标识调用工具的智能体。\n",
    "- 这种消息类型用于智能体间共享工具执行的结果，例如在多智能体协作中，一个智能体完成计算后将结果传递给另一个智能体。"
   ]
  },
  {
   "cell_type": "markdown",
   "id": "de5842bd",
   "metadata": {},
   "source": [
    "2.5. `HandoffMessage`  是 AutoGen 中用于智能体之间传递任务或上下文的特殊消息类型。它的核心作用是实现任务的移交（handoff），让一个智能体能够将当前任务转移给另一个更适合处理该任务的智能体。\n",
    "\n",
    "`HandoffMessage`是一个使用上限很高的消息类型，它可以用于多种场景，例如：\n",
    "- 在多智能体系统中，智能体A可以在任务执行失败的情况下将任务从自身中转移给智能体B；\n",
    "- 可以指定消息的目标智能体，允许灵活的任务分配和协作；\n",
    "- 也可以利用这种特性实现 `TaskFactory`，一个指挥官智能体批量产生新的任务，之后将任务分配给不同的执行智能体。"
   ]
  },
  {
   "cell_type": "code",
   "execution_count": 5,
   "id": "1a939347",
   "metadata": {},
   "outputs": [
    {
     "name": "stdout",
     "output_type": "stream",
     "text": [
      "任务移交内容: 无法解决复杂微积分问题：求函数 f(x)=x³+2x²-5x+1 的极值点\n",
      "发送方: CodeGeneratorAgent\n",
      "接收方: MathExpertAgent\n"
     ]
    }
   ],
   "source": [
    "from autogen_agentchat.messages import HandoffMessage\n",
    "\n",
    "# 场景：代码生成智能体无法处理复杂数学问题，移交给数学专家\n",
    "math_handoff = HandoffMessage(\n",
    "    content=\"无法解决复杂微积分问题：求函数 f(x)=x³+2x²-5x+1 的极值点\",\n",
    "    source=\"CodeGeneratorAgent\",\n",
    "    target=\"MathExpertAgent\"\n",
    ")\n",
    "\n",
    "print(f\"任务移交内容: {math_handoff.content}\")\n",
    "print(f\"发送方: {math_handoff.source}\")\n",
    "print(f\"接收方: {math_handoff.target}\")"
   ]
  },
  {
   "cell_type": "markdown",
   "id": "c60b0edc",
   "metadata": {},
   "source": [
    "场景：软件开发流程中的阶段性移交"
   ]
  },
  {
   "cell_type": "code",
   "execution_count": 6,
   "id": "553a968e",
   "metadata": {},
   "outputs": [
    {
     "name": "stdout",
     "output_type": "stream",
     "text": [
      "阶段 1: RequirementAnalyst -> SystemArchitect\n",
      "任务: 需求分析完成，请开始系统架构设计\n",
      "\n",
      "阶段 2: SystemArchitect -> DeveloperAgent\n",
      "任务: 架构设计完成，请开始编码实现\n",
      "\n",
      "阶段 3: DeveloperAgent -> TestEngineerAgent\n",
      "任务: 代码开发完成，请进行测试\n",
      "\n"
     ]
    }
   ],
   "source": [
    "development_workflow = [\n",
    "    HandoffMessage(\n",
    "        content=\"需求分析完成，请开始系统架构设计\",\n",
    "        source=\"RequirementAnalyst\",\n",
    "        target=\"SystemArchitect\"\n",
    "    ),\n",
    "    HandoffMessage(\n",
    "        content=\"架构设计完成，请开始编码实现\",\n",
    "        source=\"SystemArchitect\", \n",
    "        target=\"DeveloperAgent\"\n",
    "    ),\n",
    "    HandoffMessage(\n",
    "        content=\"代码开发完成，请进行测试\",\n",
    "        source=\"DeveloperAgent\",\n",
    "        target=\"TestEngineerAgent\"\n",
    "    )\n",
    "]\n",
    "\n",
    "for i, handoff in enumerate(development_workflow, 1):\n",
    "    print(f\"阶段 {i}: {handoff.source} -> {handoff.target}\")\n",
    "    print(f\"任务: {handoff.content}\\n\")"
   ]
  },
  {
   "cell_type": "markdown",
   "id": "b56342fd",
   "metadata": {},
   "source": [
    "场景：任务分发工厂"
   ]
  },
  {
   "cell_type": "code",
   "execution_count": 7,
   "id": "4892f9d1",
   "metadata": {},
   "outputs": [
    {
     "name": "stdout",
     "output_type": "stream",
     "text": [
      "代码任务分配给: CodeSpecialistAgent\n",
      "设计任务分配给: DesignSpecialistAgent\n"
     ]
    }
   ],
   "source": [
    "class TaskFactory:\n",
    "    \"\"\"任务分发工厂\"\"\"\n",
    "    \n",
    "    def __init__(self):\n",
    "        self.specialist_mapping = {\n",
    "            \"code\": \"CodeSpecialistAgent\",\n",
    "            \"design\": \"DesignSpecialistAgent\", \n",
    "            \"data\": \"DataSpecialistAgent\",\n",
    "            \"writing\": \"WritingSpecialistAgent\"\n",
    "        }\n",
    "    \n",
    "    def create_handoff(self, task_type, task_description):\n",
    "        if task_type in self.specialist_mapping:\n",
    "            return HandoffMessage(\n",
    "                content=f\"Professional task assignment: {task_description}\",\n",
    "                source=\"TaskManagerAgent\",\n",
    "                target=self.specialist_mapping[task_type]\n",
    "            )\n",
    "        else:\n",
    "            return HandoffMessage(\n",
    "                content=f\"General tasks: {task_description}\",\n",
    "                source=\"TaskManagerAgent\", \n",
    "                target=\"GeneralAgent\"\n",
    "            )\n",
    "\n",
    "# 使用示例\n",
    "factory = TaskFactory()\n",
    "\n",
    "code_task = factory.create_handoff(\"code\", \"开发一个用户登录系统\")\n",
    "design_task = factory.create_handoff(\"design\", \"创建移动App的UI界面\")\n",
    "\n",
    "print(f\"代码任务分配给: {code_task.target}\")\n",
    "print(f\"设计任务分配给: {design_task.target}\")"
   ]
  },
  {
   "cell_type": "markdown",
   "id": "74ff8231",
   "metadata": {},
   "source": [
    "**解释**：\n",
    "- `content` 描述任务移交的细节。\n",
    "- `source` 和 `target` 分别表示消息的发送者和接收者（目标智能体）。\n",
    "- `HandoffMessage` 适用于需要动态调整任务分配的场景，例如在群聊中将任务从一个智能体移交到另一个。"
   ]
  },
  {
   "cell_type": "markdown",
   "id": "e23764be",
   "metadata": {},
   "source": [
    "2.7. `StructuredMessage` 是一个泛型类（Python 泛型（Generics）是一种允许在定义类、函数或方法时使用类型参数的编程特性，使得代码可以处理多种数据类型而保持类型安全），允许开发者定义基于 Pydantic `BaseModel` 的自定义消息类型，用于结构化的消息内容。"
   ]
  },
  {
   "cell_type": "code",
   "execution_count": 8,
   "id": "7113739c",
   "metadata": {},
   "outputs": [
    {
     "name": "stdout",
     "output_type": "stream",
     "text": [
      "Hello~ 现在的时间是： 2025-05-28 16:35:11.767463!\n"
     ]
    }
   ],
   "source": [
    "from pydantic import BaseModel # 一个用于数据验证和序列化的基类\n",
    "from autogen_agentchat.messages import StructuredMessage\n",
    "import datetime\n",
    "\n",
    "# 定义一个 Pydantic 模型\n",
    "class MyMessageContent(BaseModel):\n",
    "    text: str\n",
    "    number: datetime.datetime\n",
    "\n",
    "# 创建一个 StructuredMessage 实例\n",
    "message = StructuredMessage[MyMessageContent](\n",
    "    content=MyMessageContent(text=\"现在的时间是：\", number=datetime.datetime.now()),\n",
    "    source=\"User\",\n",
    "    format_string=\"Hello~ {text} {number}!\"\n",
    ")\n",
    "\n",
    "# 转换为文本表示\n",
    "print(message.to_text())"
   ]
  },
  {
   "cell_type": "markdown",
   "id": "07553a72",
   "metadata": {},
   "source": [
    "前面说到，在当前版本的 AutoGen [(0.5.7 stable)](https://microsoft.github.io/autogen/stable/user-guide/agentchat-user-guide/tutorial/index.html)版本中， `ToolCallSummaryMessage` 的 `content` 只能接收接收字符串类型，我们也可以通过继承 `StructuredMessage` 来实现更复杂的消息内容。"
   ]
  },
  {
   "cell_type": "code",
   "execution_count": 9,
   "id": "f218e456",
   "metadata": {},
   "outputs": [
    {
     "name": "stdout",
     "output_type": "stream",
     "text": [
      "Content: tool='calculate_sum' result=42\n",
      "Source: CalculatorAgent\n",
      "Text representation: {\"tool\":\"calculate_sum\",\"result\":42}\n"
     ]
    }
   ],
   "source": [
    "from pydantic import BaseModel\n",
    "from autogen_agentchat.messages import StructuredMessage\n",
    "\n",
    "# 定义工具调用结果的结构\n",
    "class ToolCallResult(BaseModel):\n",
    "    tool: str\n",
    "    result: int\n",
    "\n",
    "# 创建结构化消息\n",
    "tool_call_summary = StructuredMessage[ToolCallResult](\n",
    "    content=ToolCallResult(tool=\"calculate_sum\", result=42),\n",
    "    source=\"CalculatorAgent\"\n",
    ")\n",
    "\n",
    "# 打印消息内容和来源\n",
    "print(f\"Content: {tool_call_summary.content}\")\n",
    "print(f\"Source: {tool_call_summary.source}\")\n",
    "print(f\"Text representation: {tool_call_summary.to_text()}\")"
   ]
  },
  {
   "cell_type": "markdown",
   "id": "c14b2315",
   "metadata": {},
   "source": [
    "2.7. **总结与补充说明**\n",
    "\n",
    "- **ChatMessage 联合类型**：`ChatMessage` 是所有内置 `BaseChatMessage` 子类的联合类型，定义为：\n",
    "  ```python\n",
    "  ChatMessage = Annotated[\n",
    "      TextMessage | MultiModalMessage | StopMessage | ToolCallSummaryMessage | HandoffMessage,\n",
    "      Field(discriminator=\"type\")\n",
    "  ]\n",
    "  ```\n",
    "  这意味着任何 `BaseChatMessage` 的实例都属于上述子类之一（不包括 `StructuredMessage`）。\n",
    "\n",
    "- **自定义消息类型**：开发者可以通过继承 `BaseChatMessage` 或使用 `StructuredMessage` 创建自定义消息类型。例如，创建一个新的消息类型需要定义必要的字段（如 `content` 和 `source`）并实现序列化逻辑。\n",
    "\n",
    "- **消息处理**：智能体通过 `on_messages()` 或 `on_messages_stream()` 方法处理这些消息（后续会讲到）。`BaseChatMessage` 的子类通过 `type` 字段区分，方便运行时根据消息类型分发处理逻辑。\n",
    "\n",
    "- **注意事项**：\n",
    "  - 消息是纯粹的数据对象，不应包含逻辑，逻辑由智能体的消息处理方法实现。\n",
    "  - 如果需要扩展消息功能，建议使用 `StructuredMessage` 结合 Pydantic 模型，以保持灵活性和类型安全性。"
   ]
  },
  {
   "cell_type": "markdown",
   "id": "c411166e",
   "metadata": {},
   "source": [
    "### 3. Agent's Internal Events 智能体内部事件\n",
    "\n",
    "智能体内部事件继承自基类 `BaseAgentEvent`，用于记录智能体运行过程中的重要状态和操作信息。这些事件对于调试、监控和分析智能体行为非常有用。\n",
    "\n",
    "主要的内部事件类型包括：\n",
    "- `ToolCallRequestEvent` - 记录工具调用  \n",
    "- `ToolCallExecutionEvent` - 记录内容过滤"
   ]
  },
  {
   "cell_type": "markdown",
   "id": "b5640909",
   "metadata": {},
   "source": [
    "3.2. `ToolCallEvent` 记录智能体调用工具函数的相关信息，包括工具名称、参数、执行结果等。这对于监控工具使用情况和调试工具调用问题很有帮助。\n",
    "\n",
    "当智能体调用工具时，AutoGen 会生成相应的 `ToolCallEvent`。"
   ]
  },
  {
   "cell_type": "code",
   "execution_count": 21,
   "id": "223db274",
   "metadata": {},
   "outputs": [
    {
     "name": "stdout",
     "output_type": "stream",
     "text": [
      "\n",
      "=== 开始智能体交互，监听工具调用事件 ===\n",
      "用户请求: 和 'WTF-Agent 爱好者' 打个招呼。\n",
      "\n",
      "[事件监听器] 接收到工具调用请求事件:\n",
      "  事件类型: ToolCallRequestEvent\n",
      "  源: Receptionist\n",
      "  工具调用ID: N/A\n",
      "  工具名称: N/A\n",
      "  调用参数: N/A\n",
      "\n",
      "[消息] ToolCallExecutionEvent: [FunctionExecutionResult(content='Hello WTF-Agent 爱好者~ Welcome to WTF-Agent!', name='hello_world', call_id='call_p1OB5rUT2WxJwFqvkSmhUAyV', is_error=False)]\n",
      "\n",
      "[消息] Response: Response(chat_message=ToolCallSummaryMessage(source='Receptionist', models_usage=None, metadata={}, content='Hello WTF-Agent 爱好者~ Welcome to WTF-Agent!', type='ToolCallSummaryMessage'), inner_messages=[ToolCallRequestEvent(source='Receptionist', models_usage=RequestUsage(prompt_tokens=95, completion_tokens=20), metadata={}, content=[FunctionCall(id='call_p1OB5rUT2WxJwFqvkSmhUAyV', arguments='{\"name\":\"WTF-Agent 爱好者\"}', name='hello_world')], type='ToolCallRequestEvent'), ToolCallExecutionEvent(source='Receptionist', models_usage=None, metadata={}, content=[FunctionExecutionResult(content='Hello WTF-Agent 爱好者~ Welcome to WTF-Agent!', name='hello_world', call_id='call_p1OB5rUT2WxJwFqvkSmhUAyV', is_error=False)], type='ToolCallExecutionEvent')])\n"
     ]
    }
   ],
   "source": [
    "import os\n",
    "import sys\n",
    "from autogen_agentchat.agents import AssistantAgent\n",
    "from autogen_agentchat.ui import Console\n",
    "from autogen_ext.models.openai import OpenAIChatCompletionClient\n",
    "from autogen_agentchat.messages import ToolCallRequestEvent, TextMessage\n",
    "from autogen_core import CancellationToken \n",
    "\n",
    "\n",
    "model_client = OpenAIChatCompletionClient(\n",
    "    model=\"gpt-4.1\",  # 修正模型名称\n",
    "    api_key=os.getenv(\"OPENAI_API_KEY\"),\n",
    ")\n",
    "\n",
    "# 定义一个工具函数，让智能体调用\n",
    "async def hello_world(name: str) -> str:\n",
    "    \"\"\"\n",
    "    A simple tool that returns a greeting message.\n",
    "    :param name: The name of the person to greet.\n",
    "    \"\"\"\n",
    "    return f\"Hello {name}~ Welcome to WTF-Agent!\"\n",
    "\n",
    "# 创建智能体\n",
    "agent = AssistantAgent(\n",
    "    name=\"Receptionist\",\n",
    "    model_client=model_client,\n",
    "    tools=[hello_world],\n",
    "    system_message=\"You are a warm receptionist. Please use the tools to help your friends.\",\n",
    ")\n",
    "\n",
    "\n",
    "\n",
    "async def handle_tool_call_events():\n",
    "    \"\"\"处理工具调用事件的函数\"\"\"\n",
    "    print(\"\\n=== 开始智能体交互，监听工具调用事件 ===\")\n",
    "    \n",
    "    # 创建任务消息\n",
    "    task = \"和 'WTF-Agent 爱好者' 打个招呼。\"\n",
    "    print(f\"用户请求: {task}\")\n",
    "\n",
    "    # 创建取消令牌\n",
    "    cancellation_token = CancellationToken()\n",
    "\n",
    "    # 创建正确的消息格式 - 使用 TextMessage 对象而不是字典\n",
    "    user_message = TextMessage(content=task, source=\"User\")\n",
    "    \n",
    "    # 使用流式接口运行智能体并捕获事件\n",
    "    async for message in agent.on_messages_stream([user_message],\n",
    "                                                    cancellation_token=cancellation_token):\n",
    "        # 检查是否是 ToolCallRequestEvent\n",
    "        if isinstance(message, ToolCallRequestEvent):\n",
    "            print(f\"\\n[事件监听器] 接收到工具调用请求事件:\")\n",
    "            print(f\"  事件类型: {type(message).__name__}\")\n",
    "            print(f\"  源: {message.source}\")\n",
    "            print(f\"  工具调用ID: {getattr(message, 'call_id', 'N/A')}\")\n",
    "            print(f\"  工具名称: {getattr(message, 'tool_name', 'N/A')}\")\n",
    "            print(f\"  调用参数: {getattr(message, 'arguments', 'N/A')}\")\n",
    "        else:\n",
    "            # 处理其他消息类型\n",
    "            print(f\"\\n[消息] {type(message).__name__}: {getattr(message, 'content', str(message))}\")\n",
    "\n",
    "# 运行事件处理\n",
    "await handle_tool_call_events()\n"
   ]
  },
  {
   "cell_type": "markdown",
   "id": "8ffd4996",
   "metadata": {},
   "source": [
    "**解释**：\n",
    "- `ToolCallEvent` 在智能体调用任何工具函数时自动生成\n",
    "- 记录工具名称、输入参数、执行结果和执行状态\n",
    "- 包含详细的调用时间戳，便于性能分析\n",
    "- 帮助开发者追踪工具使用模式和排查工具相关问题"
   ]
  },
  {
   "cell_type": "markdown",
   "id": "f6133afb",
   "metadata": {},
   "source": [
    "3.5. **真实场景中的事件监听实现**\n",
    "\n",
    "在生产环境中，可以这样实现事件监听和处理："
   ]
  }
 ],
 "metadata": {
  "kernelspec": {
   "display_name": "agents",
   "language": "python",
   "name": "python3"
  },
  "language_info": {
   "codemirror_mode": {
    "name": "ipython",
    "version": 3
   },
   "file_extension": ".py",
   "mimetype": "text/x-python",
   "name": "python",
   "nbconvert_exporter": "python",
   "pygments_lexer": "ipython3",
   "version": "3.10.16"
  }
 },
 "nbformat": 4,
 "nbformat_minor": 5
}
