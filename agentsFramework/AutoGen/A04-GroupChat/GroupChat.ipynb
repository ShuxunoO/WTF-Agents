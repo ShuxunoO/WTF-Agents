{
 "cells": [
  {
   "cell_type": "markdown",
   "id": "2cd5c2fa",
   "metadata": {},
   "source": [
    "<div style=\"text-align: center;\">\n",
    "  <img src=\"../../../assets/Cover.png\" alt=\"Openai personal apikey\">\n",
    "</div>\n",
    "\n",
    "上一节：**[HelloWorld](../A00-AutoGen_intro/autogen_intro.md)**\n",
    "\n",
    "在上一节的学习中，我们已经完成了一个简单的智能体的构建，本节我们将学习如何构建一个多智能体系统，并让他们协同讨论一个特定话题。"
   ]
  }
 ],
 "metadata": {
  "kernelspec": {
   "display_name": "agents",
   "language": "python",
   "name": "python3"
  },
  "language_info": {
   "name": "python",
   "version": "3.10.16"
  }
 },
 "nbformat": 4,
 "nbformat_minor": 5
}
