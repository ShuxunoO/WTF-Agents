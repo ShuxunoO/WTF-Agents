{
 "cells": [
  {
   "cell_type": "markdown",
   "metadata": {},
   "source": [
    "本节内容我们将讲述如何使用AutoGen从0开始构建一个智能体，内容包括环境的搭建、智能体的构建以及标准内容输出。"
   ]
  },
  {
   "cell_type": "markdown",
   "metadata": {},
   "source": [
    "### 环境安装\n",
    "\n",
    "参考我们在[Anaconda](https://xxx)介绍的关于Anaconda的安装方法，在现有Anaconda环境的基础上，我们搭建一个运行Autogen的基础Python环境，取名为`wtf_agents`。\n",
    "\n",
    "#### 创建虚拟环境\n",
    "\n",
    "1. AutoGen要求 Python 3.10 或更高版本，因此我们创建一个 Python 3.12 的虚拟环境。\n",
    "\n",
    "```bash\n",
    "conda create -n wtf_agents python=3.12 -y\n",
    "```\n",
    "\n",
    "2. 创建虚拟环境成功后，我们激活该虚拟环境。\n",
    "```bash\n",
    "conda activate wtf_agents\n",
    "```\n",
    "\n",
    "3. 安装AutoGen的依赖包。\n",
    "\n",
    "```bash\n",
    "pip install autogen\n",
    "```"
   ]
  },
  {
   "cell_type": "code",
   "execution_count": null,
   "metadata": {
    "vscode": {
     "languageId": "plaintext"
    }
   },
   "outputs": [],
   "source": []
  }
 ],
 "metadata": {
  "language_info": {
   "name": "python"
  }
 },
 "nbformat": 4,
 "nbformat_minor": 2
}
